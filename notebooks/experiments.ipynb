{
 "cells": [
  {
   "cell_type": "code",
   "execution_count": 3,
   "metadata": {},
   "outputs": [],
   "source": [
    "path = r\"C:\\Projects\\multi_agent_backend\\prompts\\master_agent.prompty\"\n",
    "\n",
    "file = open(path, 'r')\n",
    "text = file.read()"
   ]
  },
  {
   "cell_type": "code",
   "execution_count": 4,
   "metadata": {},
   "outputs": [
    {
     "data": {
      "text/plain": [
       "'You are an intelligent assistant specialized in retrieving information from a given context for the query.\\n    1.Carefully read and understand the entire context, regardless of its size.\\n    2.Identify and extract the specific phrase(s) or sentence(s) within the context that best answers the user query.\\n    3.Ensure your response is concise, accurate, and strictly based on the context provided.\\n    4.If the context does not contain sufficient information to answer the query, state clearly that the required information is not available.\\n    5.Avoid making assumptions or including information that is not explicitly found in the context.\\nnote : make sure the response is within 50 words'"
      ]
     },
     "execution_count": 4,
     "metadata": {},
     "output_type": "execute_result"
    }
   ],
   "source": [
    "text"
   ]
  },
  {
   "cell_type": "code",
   "execution_count": 6,
   "metadata": {},
   "outputs": [],
   "source": [
    "with open(r\"C:\\Projects\\multi_agent_backend\\prompts\\master_agent.prompty\", 'r', encoding='utf-8') as file:\n",
    "        content=  file.read()"
   ]
  },
  {
   "cell_type": "code",
   "execution_count": 7,
   "metadata": {},
   "outputs": [
    {
     "name": "stdout",
     "output_type": "stream",
     "text": [
      "# Master Agent System Prompts\n",
      "# This file contains all prompts used by the master agent for different functions\n",
      "\n",
      "## Supervisor Routing Prompt\n",
      "ROLE: Query Routing Supervisor\n",
      "PURPOSE: Route incoming queries to appropriate specialized agents\n",
      "\n",
      "ROUTING_PROMPT:\n",
      "You are a supervisor tasked with routing queries to the most appropriate agent.\n",
      "Available agents and their capabilities:\n",
      "{agent_capabilities}\n",
      "CURRENT QUERY: {query}\n",
      "Choose the MOST APPROPRIATE agent if none suitable.\n",
      "\n",
      "## Agent Instructions\n",
      "DEFAULT_INSTRUCTION: route it to child_bot1 agent by default.\n",
      "\n",
      "## Response Format\n",
      "{\n",
      "    \"next\": \"child_bot1\" | \"FINISH\"\n",
      "}\n",
      "\n"
     ]
    }
   ],
   "source": [
    "print(content)"
   ]
  },
  {
   "cell_type": "code",
   "execution_count": 12,
   "metadata": {},
   "outputs": [
    {
     "name": "stdout",
     "output_type": "stream",
     "text": [
      "['ROLE: Query Routing Supervisor', 'PURPOSE: Route incoming queries to appropriate specialized agents', '', 'ROUTING_PROMPT:', 'You are a supervisor tasked with routing queries to the most appropriate agent.', 'Available agents and their capabilities:', '{agent_capabilities}', 'CURRENT QUERY: {query}', 'Choose the MOST APPROPRIATE agent if none suitable.', '']\n",
      "['DEFAULT_INSTRUCTION: route it to child_bot1 agent by default.', '']\n"
     ]
    }
   ],
   "source": [
    "sections = {}\n",
    "current_section = None\n",
    "current_content = []\n",
    "\n",
    "for line in content.split('\\n'):\n",
    "    if line.startswith('##'):\n",
    "        if current_section:\n",
    "            sections[current_section] = '\\n'.join(current_content).strip()\n",
    "            print(current_content)\n",
    "        current_section = line[2:].strip().lower().replace(' ', '_')\n",
    "        print(current_section)\n",
    "        print(\"-------------------------------\")\n",
    "        current_content = []\n",
    "    else:\n",
    "        current_content.append(line)\n",
    "        # print(current_content)\n",
    "        \n",
    "if current_section:\n",
    "    sections[current_section] = '\\n'.join(current_content).strip()"
   ]
  },
  {
   "cell_type": "code",
   "execution_count": 9,
   "metadata": {},
   "outputs": [
    {
     "data": {
      "text/plain": [
       "{'supervisor_routing_prompt': 'ROLE: Query Routing Supervisor\\nPURPOSE: Route incoming queries to appropriate specialized agents\\n\\nROUTING_PROMPT:\\nYou are a supervisor tasked with routing queries to the most appropriate agent.\\nAvailable agents and their capabilities:\\n{agent_capabilities}\\nCURRENT QUERY: {query}\\nChoose the MOST APPROPRIATE agent if none suitable.',\n",
       " 'agent_instructions': 'DEFAULT_INSTRUCTION: route it to child_bot1 agent by default.',\n",
       " 'response_format': '{\\n    \"next\": \"child_bot1\" | \"FINISH\"\\n}'}"
      ]
     },
     "execution_count": 9,
     "metadata": {},
     "output_type": "execute_result"
    }
   ],
   "source": [
    "sections"
   ]
  },
  {
   "cell_type": "code",
   "execution_count": 14,
   "metadata": {},
   "outputs": [
    {
     "ename": "ImportError",
     "evalue": "attempted relative import with no known parent package",
     "output_type": "error",
     "traceback": [
      "\u001b[1;31m---------------------------------------------------------------------------\u001b[0m",
      "\u001b[1;31mImportError\u001b[0m                               Traceback (most recent call last)",
      "Cell \u001b[1;32mIn[14], line 1\u001b[0m\n\u001b[1;32m----> 1\u001b[0m \u001b[38;5;28;01mfrom\u001b[39;00m \u001b[38;5;21;01m.\u001b[39;00m\u001b[38;5;21;01m.\u001b[39;00m\u001b[38;5;21;01mprompt_loader\u001b[39;00m \u001b[38;5;28;01mimport\u001b[39;00m PromptLoader\n\u001b[0;32m      2\u001b[0m prompt_loader \u001b[38;5;241m=\u001b[39m PromptLoader()\n\u001b[0;32m      3\u001b[0m \u001b[38;5;28mprint\u001b[39m(prompt_loader\u001b[38;5;241m.\u001b[39mget_prompt_paths()[\u001b[38;5;124m'\u001b[39m\u001b[38;5;124mchild_agent1\u001b[39m\u001b[38;5;124m'\u001b[39m])\n",
      "\u001b[1;31mImportError\u001b[0m: attempted relative import with no known parent package"
     ]
    }
   ],
   "source": [
    "from ..prompt_loader import PromptLoader\n",
    "prompt_loader = PromptLoader()\n",
    "print(prompt_loader.get_prompt_paths()['child_agent1'])"
   ]
  },
  {
   "cell_type": "code",
   "execution_count": 19,
   "metadata": {},
   "outputs": [],
   "source": [
    "import sys\n",
    "sys.path.append(r\"c:\\\\Projects\\\\multi_agent_backend\")\n",
    "\n",
    "from prompt_loader import PromptLoader"
   ]
  },
  {
   "cell_type": "code",
   "execution_count": 22,
   "metadata": {},
   "outputs": [
    {
     "name": "stdout",
     "output_type": "stream",
     "text": [
      "# Refiner Agent System Prompt\n",
      "# This prompt guides the agent in refining and optimizing user queries for LLM processing\n",
      "\n",
      "ROLE: Query Refinement Specialist\n",
      "PURPOSE: Transform raw user queries into optimized formats for LLM processing\n",
      "\n",
      "CAPABILITIES:\n",
      "- Query analysis\n",
      "- Language optimization\n",
      "- Context preservation\n",
      "- Format standardization\n",
      "\n",
      "INSTRUCTIONS:\n",
      "1. Analyze the original query structure and intent\n",
      "2. Maintain the core meaning of the query\n",
      "3. Improve clarity and specificity\n",
      "4. Remove ambiguity and vagueness\n",
      "5. Format for optimal LLM processing\n",
      "6. Preserve all key information from original query\n",
      "\n",
      "CONSTRAINTS:\n",
      "- Must not alter the fundamental intent\n",
      "- Keep refinements concise\n",
      "- Maintain natural language flow\n",
      "- Preserve any technical terms or specific references\n",
      "\n",
      "FORMAT:\n",
      "Input: Original query: '{query}'\n",
      "Output: [Refined query optimized for LLM processing]\n",
      "\n",
      "EXAMPLES:\n",
      "Original: \"tell me about python\"\n",
      "Refined: \"What are the key features and characteristics of the Python programming language?\"\n",
      "\n",
      "Original: \"how to do x\"\n",
      "Refined: \"What are the step-by-step instructions to accomplish x?\"\n"
     ]
    }
   ],
   "source": [
    "prompt_loader = PromptLoader()\n",
    "prompt_paths = prompt_loader.get_prompt_paths()\n",
    "print(prompt_loader.load_prompt_file(\n",
    "                prompt_paths['refiner_agent']\n",
    "            ))"
   ]
  },
  {
   "cell_type": "code",
   "execution_count": null,
   "metadata": {},
   "outputs": [],
   "source": []
  },
  {
   "cell_type": "code",
   "execution_count": null,
   "metadata": {},
   "outputs": [],
   "source": [
    "C:\\Projects\\multi_agent_backend\\prompts\\child_agent1.prompty"
   ]
  }
 ],
 "metadata": {
  "kernelspec": {
   "display_name": "myenv2",
   "language": "python",
   "name": "python3"
  },
  "language_info": {
   "codemirror_mode": {
    "name": "ipython",
    "version": 3
   },
   "file_extension": ".py",
   "mimetype": "text/x-python",
   "name": "python",
   "nbconvert_exporter": "python",
   "pygments_lexer": "ipython3",
   "version": "3.12.5"
  }
 },
 "nbformat": 4,
 "nbformat_minor": 2
}
