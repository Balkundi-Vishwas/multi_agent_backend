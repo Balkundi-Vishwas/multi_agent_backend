{
 "cells": [
  {
   "cell_type": "code",
   "execution_count": null,
   "metadata": {},
   "outputs": [],
   "source": [
    "from openai import AzureOpenAI\n",
    "\n",
    "# token_provider = get_bearer_token_provider(\n",
    "#     DefaultAzureCredential(), \"https://cognitiveservices.azure.com/.default\"\n",
    "# )\n",
    "\n",
    "api_version = \"2024-07-01-preview\"\n",
    "endpoint = \"https://my-resource.openai.azure.com\"\n",
    "\n",
    "client = AzureOpenAI(\n",
    "    api_version=api_version,\n",
    "    azure_endpoint=endpoint,\n",
    ")"
   ]
  },
  {
   "cell_type": "code",
   "execution_count": null,
   "metadata": {},
   "outputs": [],
   "source": [
    "chat_completion = client.chat.completions.create(\n",
    "    model=\"gpt-4o\", # model = \"deployment_name\".\n",
    "    messages=[\n",
    "        {\n",
    "            \"role\": \"user\",\n",
    "            \"content\": \"Say this is a test\",\n",
    "        }\n",
    "    ],\n",
    ")"
   ]
  },
  {
   "cell_type": "code",
   "execution_count": 44,
   "metadata": {},
   "outputs": [
    {
     "name": "stdout",
     "output_type": "stream",
     "text": [
      "ನಾನು ಒಂದು ಆರ್ಟಿಫಿಶಿಯಲ್ ಇಂಟೆಲಿಜೆನ್ಸ್ ಪ್ರೋಗ್ರಾಂ ಆಗಿದ್ದೇನೆ, ನಾನು ಚೆನ್ನಾಗಿದ್ದೇನೆ. ನಿಮಗೆ ಏನಾದರೂ ಸಹಾಯ ಬೇಕಾದರೆ ಕೇಳಿ.\n"
     ]
    }
   ],
   "source": [
    "from openai import AzureOpenAI\n",
    "client = AzureOpenAI(\n",
    "        azure_endpoint=\"https://oai-tss-sweden.openai.azure.com/\",\n",
    "        api_version=\"2024-02-01\",\n",
    "        api_key=\"f0c2aee69c914b35aa55732deb3532be\"\n",
    "    )\n",
    "# base64_image = self.encode_image(image_path=file_path)\n",
    "# byte_image=b\"\\x89PNG\\r\\n\\x1a\\n\\x00\\x00\\x00\\rIHDR\\x00\\x00\\x01\\x90\\x00\\x00\\x002\\x08\\x02\\x00\\x00\\x00\\xfd~\\x1a\\xca\\x00\\x00\\x00\\tpHYs\\x00\\x00\\x0e\\xc4\\x00\\x00\\x0e\\xc4\\x01\\x95+\\x0e\\x1b\\x00\\x00\\x01\\xccIDATx\\x9c\\xed\\xd7\\xd1\\x8a\\xab@\\x10EQ\\xff\\xff\\xa7\\xbd0p!3\\xc6\\xea\\xb2\\r\\x98C\\xaf\\xf54\\xa8\\xddV\\xc2\\xb81\\xdb\\x0e\\x10b{z\\x00\\x80.\\xc1\\x02b\\x08\\x16\\x10C\\xb0\\x80\\x18\\x82\\x05\\xc4\\x10, \\x86`\\x011\\x04\\x0b\\x88!X@\\x0c\\xc1\\x02b\\x08\\x16\\x10C\\xb0\\x80\\x18\\x83`m?>|\\xcb\\xd1\\x9eg\\x17l/&\\xb6\\xbd3\\xd2#\\xbes*xPL\\xb0^\\x0f\\x0e/\\xf8\\xf8H\\x8f\\xf8\\xce\\xa9\\xe0A\\xdf\\x18\\xac\\xce\\x92\\x15\\x1e\\xe6\\x15>#\\\\\\xd2\\r\\xd6\\xd9o\\xb1\\xe2g\\xda\\xd9\\xa9\\xfa]\\xa9\\xb9\\xe4\\xcf5\\xf5\\xaa\\xb3\\t\\x87k\\xaf&c\\xfb\\xady\\xaa\\xde\\xad\\xf8{nH\\xc8\\xd5\\n\\xd6Y_n\\x9e:{\\xd2\\x86\\xe9\\xa9\\xafi\\x0e_\\xacm\\xae\\x9a\\xde\\xa4\\xb9\\xe7\\xf0\\xc3N\\x0c\\t\\xd1.\\xff$\\xec$\\xa3\\xae\\xc9\\xf6b\\xfa\\xa6\\xfd`\\xd5G\\xce\\xc6\\xeb\\xac\\xaa\\x15\\xa3^\\xda\\xe1\\xedr\\x85bMw\\x83uT\\x9f\\xda\\xef\\x05k?\\xbc\\\\4W\\x9d\\x1d)\\xf6\\x7f;|\\xa1\\xfe6\\x86\\xcb\\xeb\\r\\x8b\\x81a\\x1d\\x9f|\\xc3*V]\\xda\\xa1\\x1f\\x9a\\xab\\xab\\xfa\\xc1\\xaa\\xefu\\xe9\\xee7\\x83Uo\\x0eK\\xb9U\\x81?g'N\\xf5_\\x1f\\x8a\\r\\xef\\x1c\\xe9l>\\xb1\\xf3\\xf6\\xdf\\xf4\\x86{\\xfb\\xfb\\x84u\\xdc}m\\xd9~;^y<5l\\xd9\\xdc\\x86\\xc7S\\xc5\\xf0\\xcd\\x82\\x0c\\xc7(\\x8e\\xd7C\\xf67,\\xbe\\xa8\\x1d\\x16\\xb3\\xe8?\\xfd0X\\x97\\x96\\x7f|\\x1e\\xe0\\xadu\\x1f\\x92\\xe2\\x95\\x07\\xf8N\\x1eT \\x86`\\x011\\x04\\x0b\\x88!X@\\x0c\\xc1\\x02b\\x08\\x16\\x10C\\xb0\\x80\\x18\\x82\\x05\\xc4\\x10, \\x86`\\x011\\x04\\x0b\\x88!X@\\x0c\\xc1\\x02b\\x08\\x16\\x10C\\xb0\\x80\\x18\\x82\\x05\\xc4\\x10, \\x86`\\x011\\x04\\x0b\\x88!X@\\x0c\\xc1\\x02b\\x08\\x16\\x10C\\xb0\\x80\\x18\\x82\\x05\\xc4\\x10, \\xc6?$\\x05W.\\x95j\\x89\\xfe\\x00\\x00\\x00\\x00IEND\\xaeB`\\x82\"\n",
    "completion = client.chat.completions.create(\n",
    "model=\"gpt-4\",\n",
    "messages=[\n",
    "    {\n",
    "        \"role\": \"user\",\n",
    "        \"content\": \"ನೀವು ಹೇಗಿದ್ದೀರಾ\"\n",
    "        }\n",
    "    ],\n",
    "max_tokens=300,\n",
    "n=3\n",
    ")\n",
    "print(completion.choices[0].message.content)"
   ]
  },
  {
   "cell_type": "code",
   "execution_count": 5,
   "metadata": {},
   "outputs": [
    {
     "data": {
      "text/plain": [
       "[Choice(finish_reason='stop', index=0, logprobs=None, message=ChatCompletionMessage(content='The addition of 1 and 2 is 3.', refusal=None, role='assistant', audio=None, function_call=None, tool_calls=None), content_filter_results={'hate': {'filtered': False, 'severity': 'safe'}, 'protected_material_code': {'filtered': False, 'detected': False}, 'protected_material_text': {'filtered': False, 'detected': False}, 'self_harm': {'filtered': False, 'severity': 'safe'}, 'sexual': {'filtered': False, 'severity': 'safe'}, 'violence': {'filtered': False, 'severity': 'safe'}}),\n",
       " Choice(finish_reason='stop', index=1, logprobs=None, message=ChatCompletionMessage(content='The addition of 1 and 2 is 3.', refusal=None, role='assistant', audio=None, function_call=None, tool_calls=None), content_filter_results={'hate': {'filtered': False, 'severity': 'safe'}, 'protected_material_code': {'filtered': False, 'detected': False}, 'protected_material_text': {'filtered': False, 'detected': False}, 'self_harm': {'filtered': False, 'severity': 'safe'}, 'sexual': {'filtered': False, 'severity': 'safe'}, 'violence': {'filtered': False, 'severity': 'safe'}}),\n",
       " Choice(finish_reason='stop', index=2, logprobs=None, message=ChatCompletionMessage(content='The addition of 1 and 2 is 3.', refusal=None, role='assistant', audio=None, function_call=None, tool_calls=None), content_filter_results={'hate': {'filtered': False, 'severity': 'safe'}, 'protected_material_code': {'filtered': False, 'detected': False}, 'protected_material_text': {'filtered': False, 'detected': False}, 'self_harm': {'filtered': False, 'severity': 'safe'}, 'sexual': {'filtered': False, 'severity': 'safe'}, 'violence': {'filtered': False, 'severity': 'safe'}})]"
      ]
     },
     "execution_count": 5,
     "metadata": {},
     "output_type": "execute_result"
    }
   ],
   "source": [
    "completion.choices"
   ]
  },
  {
   "cell_type": "code",
   "execution_count": 2,
   "metadata": {},
   "outputs": [
    {
     "data": {
      "text/plain": [
       "ChatCompletion(id='chatcmpl-B0iifZ56MTw4F0xZqO2psoI01SKQN', choices=[Choice(finish_reason='stop', index=0, logprobs=None, message=ChatCompletionMessage(content='The addition of 1 and 2 is 3.', refusal=None, role='assistant', audio=None, function_call=None, tool_calls=None), content_filter_results={'hate': {'filtered': False, 'severity': 'safe'}, 'protected_material_code': {'filtered': False, 'detected': False}, 'protected_material_text': {'filtered': False, 'detected': False}, 'self_harm': {'filtered': False, 'severity': 'safe'}, 'sexual': {'filtered': False, 'severity': 'safe'}, 'violence': {'filtered': False, 'severity': 'safe'}})], created=1739511601, model='gpt-4o-mini-2024-07-18', object='chat.completion', service_tier=None, system_fingerprint='fp_b045b4af17', usage=CompletionUsage(completion_tokens=12, prompt_tokens=18, total_tokens=30, completion_tokens_details=CompletionTokensDetails(audio_tokens=0, reasoning_tokens=0, accepted_prediction_tokens=0, rejected_prediction_tokens=0), prompt_tokens_details=PromptTokensDetails(audio_tokens=0, cached_tokens=0)), prompt_filter_results=[{'prompt_index': 0, 'content_filter_results': {'hate': {'filtered': False, 'severity': 'safe'}, 'jailbreak': {'filtered': False, 'detected': False}, 'self_harm': {'filtered': False, 'severity': 'safe'}, 'sexual': {'filtered': False, 'severity': 'safe'}, 'violence': {'filtered': False, 'severity': 'safe'}}}])"
      ]
     },
     "execution_count": 2,
     "metadata": {},
     "output_type": "execute_result"
    }
   ],
   "source": [
    "completion"
   ]
  },
  {
   "cell_type": "code",
   "execution_count": 38,
   "metadata": {},
   "outputs": [],
   "source": [
    "from langchain_openai import AzureOpenAI\n",
    "\n",
    "\n",
    "llm = AzureOpenAI(\n",
    "            azure_deployment=\"gpt-35-turbo\",\n",
    "            api_version=\"2023-12-01-preview\",  \n",
    "            azure_endpoint=\"https://oai-tss-sweden.openai.azure.com/\",\n",
    "            api_key=\"f0c2aee69c914b35aa55732deb3532be\"\n",
    "        )"
   ]
  },
  {
   "cell_type": "code",
   "execution_count": 55,
   "metadata": {},
   "outputs": [],
   "source": [
    "from langchain_openai import AzureChatOpenAI\n",
    "llm = AzureChatOpenAI(\n",
    "            azure_deployment=\"gpt-35-turbo\",\n",
    "            api_version=\"2023-06-01-preview\", \n",
    "            temperature=0,\n",
    "            max_tokens=None,\n",
    "            timeout=None,\n",
    "            max_retries=2,\n",
    "            azure_endpoint=\"https://oai-tss-sweden.openai.azure.com/\",\n",
    "            api_key=\"f0c2aee69c914b35aa55732deb3532be\"\n",
    "        )\n",
    "messages = [\n",
    "    (\n",
    "        \"system\",\n",
    "        \"You are a helpful assistant that translates English to French. Translate the user sentence.\",\n",
    "    ),\n",
    "    (\"human\", \"I love programming.\"),\n",
    "]\n",
    "ai_msg = llm.invoke(messages)"
   ]
  },
  {
   "cell_type": "code",
   "execution_count": 43,
   "metadata": {},
   "outputs": [
    {
     "data": {
      "text/plain": [
       "\"J'adore la programmation.\""
      ]
     },
     "execution_count": 43,
     "metadata": {},
     "output_type": "execute_result"
    }
   ],
   "source": [
    "ai_msg.content"
   ]
  },
  {
   "cell_type": "code",
   "execution_count": null,
   "metadata": {},
   "outputs": [
    {
     "data": {
      "text/plain": [
       "\"J'aime la programmation.\""
      ]
     },
     "execution_count": 5,
     "metadata": {},
     "output_type": "execute_result"
    }
   ],
   "source": [
    "import openai\n",
    "\n",
    "response = openai.ChatCompletion.create(\n",
    "    deployment_id='gpt-35-turbo-0125', # deployment_id could be one of {gpt-35-turbo-0125 or gpt-4-32k}\n",
    "    messages=[\n",
    "        {\"role\": \"system\", \"content\": \"You are a helpful assistant.\"},\n",
    "        {\"role\": \"user\", \"content\": \"Knock knock.\"},\n",
    "        {\"role\": \"assistant\", \"content\": \"Who's there?\"},\n",
    "        {\"role\": \"user\", \"content\": \"Orange.\"},\n",
    "    ],\n",
    "    temperature=0,\n",
    ")\n",
    "\n",
    "print(f\"{response.choices[0].message.role}: {response.choices[0].message.content}\")"
   ]
  },
  {
   "cell_type": "code",
   "execution_count": 60,
   "metadata": {},
   "outputs": [],
   "source": [
    "llm = AzureChatOpenAI(\n",
    "                azure_deployment=\"gpt-4\",\n",
    "                api_version=\"2024-02-01\",\n",
    "                temperature=0,\n",
    "                max_retries=2,\n",
    "                azure_endpoint= \"https://oai-tss-sweden.openai.azure.com/\",\n",
    "                api_key=\"f0c2aee69c914b35aa55732deb3532be\",\n",
    "            )"
   ]
  },
  {
   "cell_type": "code",
   "execution_count": 61,
   "metadata": {},
   "outputs": [],
   "source": [
    "messages = [\n",
    "    (\n",
    "        \"system\",\n",
    "        \"You are a helpful assistant that translates English to French. Translate the user sentence.\",\n",
    "    ),\n",
    "    (\"human\", \"I love programming.\"),\n",
    "]\n",
    "ai_msg = llm.invoke(messages)"
   ]
  },
  {
   "cell_type": "markdown",
   "metadata": {},
   "source": []
  }
 ],
 "metadata": {
  "kernelspec": {
   "display_name": "myenv",
   "language": "python",
   "name": "python3"
  },
  "language_info": {
   "codemirror_mode": {
    "name": "ipython",
    "version": 3
   },
   "file_extension": ".py",
   "mimetype": "text/x-python",
   "name": "python",
   "nbconvert_exporter": "python",
   "pygments_lexer": "ipython3",
   "version": "3.10.14"
  }
 },
 "nbformat": 4,
 "nbformat_minor": 2
}
